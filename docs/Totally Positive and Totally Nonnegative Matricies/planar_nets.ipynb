{
 "cells": [
  {
   "cell_type": "code",
   "execution_count": 129,
   "metadata": {},
   "outputs": [],
   "source": [
    "import numpy as np\n",
    "import sympy as sp"
   ]
  },
  {
   "cell_type": "code",
   "execution_count": 130,
   "metadata": {},
   "outputs": [],
   "source": [
    "from itertools import chain, combinations\n",
    "\n",
    "def powerset(iterable):\n",
    "    s = list(iterable)\n",
    "    return list(map(list, chain.from_iterable(combinations(s, r) for r in range(len(s)+1))))"
   ]
  },
  {
   "cell_type": "code",
   "execution_count": 131,
   "metadata": {},
   "outputs": [],
   "source": [
    "def submat(mat, rs, cs):\n",
    "    return mat[np.ix_(rs, cs)]\n",
    "\n",
    "def minor(mat, rs, cs):\n",
    "    return sp.Matrix(submat(mat, rs, cs)).det()\n",
    "    \n",
    "def initialMinor(mat, i, j):\n",
    "    size = 0\n",
    "\n",
    "    if i < j:\n",
    "        size = i\n",
    "    else:\n",
    "        size = j\n",
    "    \n",
    "    rs = list(range(i - size, i + 1))\n",
    "    cs = list(range(j - size, j + 1))\n",
    "\n",
    "    return minor(mat, rs, cs)\n",
    "\n",
    "def totallyPositive(mat):\n",
    "    for i in range(mat.shape[0]):\n",
    "        for j in range(mat.shape[1]):\n",
    "            if initialMinor(mat, i, j) <= 0:\n",
    "                return False\n",
    "    return True\n",
    "\n",
    "def totallyNonnegative(mat):\n",
    "    n = mat.shape[0]\n",
    "    combs = powerset(list(range(n)))\n",
    "    combs = [(c1, c2) for c1 in combs for c2 in combs if len(c1) == len(c2)]\n",
    "    \n",
    "    for rs, cs in combs:\n",
    "            if minor(mat, rs, cs) < 0:\n",
    "                return False\n",
    "    return True\n",
    "        "
   ]
  },
  {
   "cell_type": "code",
   "execution_count": 132,
   "metadata": {},
   "outputs": [
    {
     "data": {
      "text/plain": [
       "True"
      ]
     },
     "execution_count": 132,
     "metadata": {},
     "output_type": "execute_result"
    }
   ],
   "source": [
    "totallyNonnegative(np.array([\n",
    "    [1, 2, 3],\n",
    "    [0, 0, 0],\n",
    "    [0,0,0]\n",
    "]))\n"
   ]
  },
  {
   "cell_type": "code",
   "execution_count": 133,
   "metadata": {},
   "outputs": [],
   "source": [
    "class PlanarNet:\n",
    "    def __init__(self, mat):\n",
    "        self.n = mat.shape[0]\n",
    "        self.diags = [0 for _ in range(2 * self.n)]\n",
    "        for level in range(mat.shape[0]):\n",
    "            self.diags[level] = np.flip(mat[level:, level])\n",
    "            self.diags[-(level + 1)] = mat[level, level:]\n",
    "    \n",
    "    def fromDiags(diags):\n",
    "        if len(diags) % 2 != 0:\n",
    "            raise RuntimeError(\"Bad diags: len mod 2 != 0\")\n",
    "            \n",
    "        net = PlanarNet(np.zeros((1, 1)))\n",
    "        net.n = len(diags) // 2\n",
    "        net.diags = diags\n",
    "        return net\n",
    "    \n",
    "    def setEdge(self, level, idx, val):\n",
    "        self.diags[level].setIdx(idx, val)\n",
    "    \n",
    "    def __repr__(self):\n",
    "        return ((self.diags)).__repr__()\n",
    "    \n",
    "    def __eq__(self, other):\n",
    "        for d1, d2 in zip(self.diags, other.diags):\n",
    "            if len(d1) != len(d2):\n",
    "                return False\n",
    "\n",
    "            if not (d1 == d2).all():\n",
    "                return False\n",
    "        \n",
    "        if other.n != self.n:\n",
    "            return False\n",
    "            \n",
    "        return True"
   ]
  },
  {
   "cell_type": "markdown",
   "metadata": {},
   "source": [
    "# Matrix -> Planar Net"
   ]
  },
  {
   "cell_type": "code",
   "execution_count": 134,
   "metadata": {},
   "outputs": [],
   "source": [
    "def MatToNet(mat):\n",
    "    n = mat.shape[0]\n",
    "    M = np.zeros_like(mat)\n",
    "    A = np.zeros_like(mat)\n",
    "    P = np.zeros_like(mat)\n",
    "\n",
    "    for level in range(n):\n",
    "        M[level, level] = initialMinor(mat, level, level)\n",
    "        prevMinor = 1 if level == 0 else M[level - 1, level - 1]\n",
    "        A[level, level] = M[level, level] / prevMinor\n",
    "        P[level, level] = A[level, level]\n",
    "\n",
    "        for i in range(level + 1, n):\n",
    "            M[level, i] = initialMinor(mat, level, i)\n",
    "            prevMinor = 1 if level == 0 else M[level - 1, i - 1]\n",
    "            A[level, i] = M[level, i] / (P[level, i - 1] * prevMinor)\n",
    "            P[level, i] = A[level, i] * P[level, i - 1]\n",
    "\n",
    "        for i in range(level + 1, n):\n",
    "            M[i, level] = initialMinor(mat, i, level)\n",
    "            prevMinor = 1 if level == 0 else M[i - 1, level - 1]\n",
    "            A[i, level] = M[i, level] / (P[i - 1, level] * prevMinor)\n",
    "            P[i, level] = A[i, level] * P[i - 1, level]\n",
    "\n",
    "    return PlanarNet(A)"
   ]
  },
  {
   "cell_type": "markdown",
   "metadata": {},
   "source": [
    "# Planar Net -> Matrix"
   ]
  },
  {
   "cell_type": "code",
   "execution_count": 135,
   "metadata": {},
   "outputs": [],
   "source": [
    "class Graph:\n",
    "    def __init__(self, graph_list):\n",
    "        self.graph_list = graph_list\n",
    "    \n",
    "    def v(self, id):\n",
    "        return self.graph_list[id]\n",
    "\n",
    "    def __repr__(self):\n",
    "        ans = \"\"\n",
    "        for k in self.graph_list:\n",
    "            ans += str(k)\n",
    "            ans += ': '\n",
    "            ans += str(self.graph_list[k])\n",
    "            ans += '\\n'\n",
    "        return ans\n",
    "    "
   ]
  },
  {
   "cell_type": "markdown",
   "metadata": {},
   "source": [
    "### Planar Net -> Graph"
   ]
  },
  {
   "cell_type": "code",
   "execution_count": 136,
   "metadata": {},
   "outputs": [],
   "source": [
    "def NetToGraph(net):\n",
    "    n = net.n\n",
    "    gr = {}\n",
    "\n",
    "    for level in range(n):\n",
    "        gr[(level, 0, 0)] = [(level, 0, 1, 1)]\n",
    "\n",
    "        for v in range(1, level + 1):\n",
    "            gr[(level, 0, v)] = []\n",
    "            gr[(level, 0, v)].append((level, 0, v + 1, 1))\n",
    "            if level > 0:\n",
    "                gr[(level, 0, v)].append((level - 1, 0, v, net.diags[v - 1][n - (level + 1)]))\n",
    "        \n",
    "        gr[(level, 0, level + 1)] = [(level, 1, 0, net.diags[level][-1])]\n",
    "\n",
    "        for v in range(level + 1):\n",
    "            gr[(level, 1, v)] = []\n",
    "            gr[(level, 1, v)].append((level, 1, v + 1, 1))\n",
    "            if level < n - 1:\n",
    "                gr[(level, 1, v)].append((level + 1, 1, v + 1, net.diags[-(level - v + 1)][v + 1]))\n",
    "        \n",
    "        gr[(level, 1, level + 1)] = []\n",
    "\n",
    "    return Graph(gr)"
   ]
  },
  {
   "cell_type": "markdown",
   "metadata": {},
   "source": [
    "### DFS"
   ]
  },
  {
   "cell_type": "code",
   "execution_count": 137,
   "metadata": {},
   "outputs": [],
   "source": [
    "def dfs(gr, v, to, cumm=1):\n",
    "    if v == to:\n",
    "        return cumm\n",
    "    \n",
    "    ans = 0\n",
    "\n",
    "    for n in gr.v(v):\n",
    "        ans += dfs(gr, (n[0], n[1], n[2]), to, cumm * n[3])\n",
    "    \n",
    "    return ans"
   ]
  },
  {
   "cell_type": "code",
   "execution_count": 138,
   "metadata": {},
   "outputs": [],
   "source": [
    "def NetToMat(net):\n",
    "    gr = NetToGraph(net)\n",
    "    n = net.n\n",
    "    mat = np.ones((n, n))\n",
    "\n",
    "    for i in range(0, n):\n",
    "        for j in range(0, n):\n",
    "            mat[i, j] = dfs(gr, (i, 0, 0), (j, 1, j + 1))\n",
    "    \n",
    "    return mat"
   ]
  },
  {
   "cell_type": "markdown",
   "metadata": {},
   "source": [
    "# Test"
   ]
  },
  {
   "cell_type": "markdown",
   "metadata": {},
   "source": [
    "## 3x3 matrix from article tests"
   ]
  },
  {
   "cell_type": "code",
   "execution_count": 139,
   "metadata": {},
   "outputs": [],
   "source": [
    "def testMat(a, b, c, d, e, f, g, h, i):\n",
    "    return np.array([\n",
    "        [d, d * h, d * h * i],\n",
    "        [b * d, b * d * h + e, b * d * h * i + e * g + e * i],\n",
    "        [a * b * d, a * b * d * h + a * e + c * e, a * b * d * h * i + (a + c) * e * (g + i) + f]\n",
    "    ])\n",
    "\n",
    "def testMatToNet():\n",
    "    x = np.random.randint(1, 10, size=(9))\n",
    "    mat = testMat(*x)\n",
    "    net = MatToNet(mat)\n",
    "\n",
    "    if list(net.diags[0]) != [x[0], x[1], x[3]] or \\\n",
    "       list(net.diags[1]) != [x[2], x[4]] or \\\n",
    "       list(net.diags[2]) != [x[5]] or \\\n",
    "       list(net.diags[3]) != [x[5]] or \\\n",
    "       list(net.diags[4]) != [x[4], x[6]] or \\\n",
    "       list(net.diags[5]) != [x[3], x[7], x[8]]:\n",
    "        print('Wrong answer')\n",
    "        print(mat)\n",
    "\n",
    "\n",
    "def testMatToNetToMat():\n",
    "    x = np.random.randint(1, 10, size=(9))\n",
    "    mat = testMat(*x)\n",
    "    \n",
    "    if not (NetToMat(MatToNet(mat)) == mat).all():\n",
    "        print('Wrong answer')\n",
    "        print(mat)\n",
    "\n",
    "def testNetToMatToNet():\n",
    "    for size in range(2, 5):\n",
    "        diags = [0 for _ in range(2 * size)]\n",
    "        for i in range(size):\n",
    "            x = np.random.randint(1, 3, size=(2 * (size - i) - 1))\n",
    "            diags[i] = x[:(size - i)]\n",
    "            diags[-(i + 1)] = x[(size - i - 1):]\n",
    "        \n",
    "        net = PlanarNet.fromDiags(diags)\n",
    "        if net != MatToNet(NetToMat(net)):\n",
    "            print('Wrong answer')\n",
    "            print(net)"
   ]
  },
  {
   "cell_type": "code",
   "execution_count": 140,
   "metadata": {},
   "outputs": [],
   "source": [
    "for _ in range(10000):\n",
    "    testMatToNet()"
   ]
  },
  {
   "cell_type": "code",
   "execution_count": 141,
   "metadata": {},
   "outputs": [],
   "source": [
    "for _ in range(10000):\n",
    "    testMatToNetToMat()"
   ]
  },
  {
   "cell_type": "code",
   "execution_count": 142,
   "metadata": {},
   "outputs": [],
   "source": [
    "for _ in range(10000):\n",
    "    testNetToMatToNet()"
   ]
  },
  {
   "cell_type": "markdown",
   "metadata": {},
   "source": [
    "## Total positivity tests"
   ]
  },
  {
   "cell_type": "code",
   "execution_count": 143,
   "metadata": {},
   "outputs": [],
   "source": [
    "for _ in range(1000):\n",
    "    for size in range(2, 7):\n",
    "        diags = [0 for _ in range(2 * size)]\n",
    "        for i in range(size):\n",
    "            x = np.random.randint(1, 10, size=(2 * (size - i) - 1))\n",
    "            diags[i] = x[:(size - i)]\n",
    "            diags[-(i + 1)] = x[(size - i - 1):]\n",
    "        \n",
    "        net = PlanarNet.fromDiags(diags)\n",
    "        mat = NetToMat(net)\n",
    "        if not totallyPositive(mat):\n",
    "            print('Wrong answer', net, mat)"
   ]
  },
  {
   "cell_type": "markdown",
   "metadata": {},
   "source": [
    "## Total non-negativity tests"
   ]
  },
  {
   "cell_type": "code",
   "execution_count": 144,
   "metadata": {},
   "outputs": [],
   "source": [
    "for _ in range(100):\n",
    "    for size in range(2, 7):\n",
    "        diags = [0 for _ in range(2 * size)]\n",
    "        for i in range(size):\n",
    "            x = np.random.randint(0, 2, size=(2 * (size - i) - 1))\n",
    "            diags[i] = x[:(size - i)]\n",
    "            diags[-(i + 1)] = x[(size - i - 1):]\n",
    "        \n",
    "        net = PlanarNet.fromDiags(diags)\n",
    "        mat = NetToMat(net)\n",
    "        if not totallyNonnegative(mat):\n",
    "            print('Wrong answer', net, mat)"
   ]
  },
  {
   "cell_type": "markdown",
   "metadata": {},
   "source": [
    "## Tests for $e \\in \\mathbb{R}$"
   ]
  },
  {
   "cell_type": "code",
   "execution_count": 145,
   "metadata": {},
   "outputs": [],
   "source": [
    "for _ in range(100):\n",
    "    for size in range(2, 6):\n",
    "        diags = [0 for _ in range(2 * size)]\n",
    "        for i in range(size):\n",
    "            x = np.random.random((2 * (size - i) - 1))\n",
    "            diags[i] = x[:(size - i)]\n",
    "            diags[-(i + 1)] = x[(size - i - 1):]\n",
    "        \n",
    "        net = PlanarNet.fromDiags(diags)\n",
    "        mat = NetToMat(net)\n",
    "        if not totallyNonnegative(mat):\n",
    "            print('Wrong answer', net, mat)"
   ]
  },
  {
   "cell_type": "code",
   "execution_count": 146,
   "metadata": {},
   "outputs": [],
   "source": [
    "for _ in range(1000):\n",
    "    for size in range(2, 6):\n",
    "        diags = [0 for _ in range(2 * size)]\n",
    "        for i in range(size):\n",
    "            x = np.random.random((2 * (size - i) - 1))\n",
    "            x += 0.01 #to delete zeros\n",
    "            diags[i] = x[:(size - i)]\n",
    "            diags[-(i + 1)] = x[(size - i - 1):]\n",
    "        \n",
    "        net = PlanarNet.fromDiags(diags)\n",
    "        mat = NetToMat(net)\n",
    "        if not totallyPositive(mat):\n",
    "            print('Wrong answer', net, mat)"
   ]
  },
  {
   "cell_type": "markdown",
   "metadata": {},
   "source": [
    "TODO: спросить про соответствие матриц и сетей и тест и протестировать тотал тесты"
   ]
  },
  {
   "cell_type": "markdown",
   "metadata": {},
   "source": [
    "# Big matrices"
   ]
  },
  {
   "cell_type": "code",
   "execution_count": 148,
   "metadata": {},
   "outputs": [],
   "source": [
    "for _ in range(100):\n",
    "    size = 10\n",
    "    diags = [0 for _ in range(2 * size)]\n",
    "    for i in range(size):\n",
    "        x = np.random.randint(1, 3, size=(2 * (size - i) - 1))\n",
    "        diags[i] = x[:(size - i)]\n",
    "        diags[-(i + 1)] = x[(size - i - 1):]\n",
    "    net = PlanarNet.fromDiags(diags)\n",
    "    mat = NetToMat(net)\n",
    "    if not totallyPositive(mat):\n",
    "        print('Wrong answer', net, mat)"
   ]
  }
 ],
 "metadata": {
  "interpreter": {
   "hash": "916dbcbb3f70747c44a77c7bcd40155683ae19c65e1c03b4aa3499c5328201f1"
  },
  "kernelspec": {
   "display_name": "Python 3.8.10 64-bit",
   "language": "python",
   "name": "python3"
  },
  "language_info": {
   "codemirror_mode": {
    "name": "ipython",
    "version": 3
   },
   "file_extension": ".py",
   "mimetype": "text/x-python",
   "name": "python",
   "nbconvert_exporter": "python",
   "pygments_lexer": "ipython3",
   "version": "3.8.10"
  },
  "orig_nbformat": 4
 },
 "nbformat": 4,
 "nbformat_minor": 2
}
